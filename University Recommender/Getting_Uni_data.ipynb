{
 "cells": [
  {
   "cell_type": "code",
   "execution_count": 1,
   "metadata": {},
   "outputs": [],
   "source": [
    "import pandas as pd\n",
    "import numpy as np\n",
    "import requests\n",
    "from bs4 import BeautifulSoup"
   ]
  },
  {
   "cell_type": "code",
   "execution_count": 2,
   "metadata": {},
   "outputs": [],
   "source": [
    "url = \"http://pastic.gov.pk/database-universities.aspx\"\n",
    "data = requests.get(url).text"
   ]
  },
  {
   "cell_type": "code",
   "execution_count": 3,
   "metadata": {},
   "outputs": [],
   "source": [
    "soup = BeautifulSoup(data, 'html5lib')"
   ]
  },
  {
   "cell_type": "code",
   "execution_count": 5,
   "metadata": {},
   "outputs": [
    {
     "data": {
      "text/html": [
       "<div>\n",
       "<style scoped>\n",
       "    .dataframe tbody tr th:only-of-type {\n",
       "        vertical-align: middle;\n",
       "    }\n",
       "\n",
       "    .dataframe tbody tr th {\n",
       "        vertical-align: top;\n",
       "    }\n",
       "\n",
       "    .dataframe thead th {\n",
       "        text-align: right;\n",
       "    }\n",
       "</style>\n",
       "<table border=\"1\" class=\"dataframe\">\n",
       "  <thead>\n",
       "    <tr style=\"text-align: right;\">\n",
       "      <th></th>\n",
       "      <th>Univeristy/Institute</th>\n",
       "      <th>Sector</th>\n",
       "      <th>City</th>\n",
       "      <th>Address</th>\n",
       "      <th>Phone</th>\n",
       "      <th>Other details</th>\n",
       "    </tr>\n",
       "  </thead>\n",
       "  <tbody>\n",
       "    <tr>\n",
       "      <th>0</th>\n",
       "      <td>ABASYN UNIVERSITY</td>\n",
       "      <td>Private</td>\n",
       "      <td>Peshawar</td>\n",
       "      <td>Peshawar Campus, Ring Road (Charsadda Link), P...</td>\n",
       "      <td>92-91-258 2934, +92-91- 224867</td>\n",
       "      <td>Email: admissions@abasyn.edu.pk Fax:+92 051 84...</td>\n",
       "    </tr>\n",
       "    <tr>\n",
       "      <th>1</th>\n",
       "      <td>Abbottabad University of Science and Technolog...</td>\n",
       "      <td>Public</td>\n",
       "      <td>Abbottabad</td>\n",
       "      <td>Captain Akaash Rabbani Shaheed Road, Tehsil Ha...</td>\n",
       "      <td>+92 (992) 402 117</td>\n",
       "      <td>Email: info@aust.edu.pk Fax: URL:http://aust.e...</td>\n",
       "    </tr>\n",
       "    <tr>\n",
       "      <th>2</th>\n",
       "      <td>ABDUL WALI KHAN UNIVERSITY</td>\n",
       "      <td>Public</td>\n",
       "      <td>Mardan</td>\n",
       "      <td>Garden Campus Toru Road, Mardan</td>\n",
       "      <td>+92-937-843356, +92-937-840499</td>\n",
       "      <td>Email: ua-cdc@awkum.edu.pk Fax: URL:http://www...</td>\n",
       "    </tr>\n",
       "    <tr>\n",
       "      <th>3</th>\n",
       "      <td>AIR UNIVERSITY</td>\n",
       "      <td>Public</td>\n",
       "      <td>Islamabad</td>\n",
       "      <td>Service Road E-9 / E-8, Islamabad, Pakistan، I...</td>\n",
       "      <td>+92-51-9262557-9</td>\n",
       "      <td>Email: amjad@mail.au.edu.pk Fax:051-9260158 UR...</td>\n",
       "    </tr>\n",
       "    <tr>\n",
       "      <th>4</th>\n",
       "      <td>AL-HAMD ISLAMIC UNIVERSITY</td>\n",
       "      <td>Private</td>\n",
       "      <td>Quetta</td>\n",
       "      <td>Airport Road Quetta, Baleli Road, Quetta, Paki...</td>\n",
       "      <td>+92-81-2301771-6, 4, 3,2</td>\n",
       "      <td>Email: info@aiu.edu.pk Fax: URL:http://www.aiu...</td>\n",
       "    </tr>\n",
       "  </tbody>\n",
       "</table>\n",
       "</div>"
      ],
      "text/plain": [
       "                                Univeristy/Institute   Sector        City  \\\n",
       "0                                  ABASYN UNIVERSITY  Private    Peshawar   \n",
       "1  Abbottabad University of Science and Technolog...   Public  Abbottabad   \n",
       "2                         ABDUL WALI KHAN UNIVERSITY   Public      Mardan   \n",
       "3                                     AIR UNIVERSITY   Public   Islamabad   \n",
       "4                         AL-HAMD ISLAMIC UNIVERSITY  Private      Quetta   \n",
       "\n",
       "                                             Address  \\\n",
       "0  Peshawar Campus, Ring Road (Charsadda Link), P...   \n",
       "1  Captain Akaash Rabbani Shaheed Road, Tehsil Ha...   \n",
       "2                    Garden Campus Toru Road, Mardan   \n",
       "3  Service Road E-9 / E-8, Islamabad, Pakistan، I...   \n",
       "4  Airport Road Quetta, Baleli Road, Quetta, Paki...   \n",
       "\n",
       "                            Phone  \\\n",
       "0  92-91-258 2934, +92-91- 224867   \n",
       "1               +92 (992) 402 117   \n",
       "2  +92-937-843356, +92-937-840499   \n",
       "3                +92-51-9262557-9   \n",
       "4        +92-81-2301771-6, 4, 3,2   \n",
       "\n",
       "                                       Other details  \n",
       "0  Email: admissions@abasyn.edu.pk Fax:+92 051 84...  \n",
       "1  Email: info@aust.edu.pk Fax: URL:http://aust.e...  \n",
       "2  Email: ua-cdc@awkum.edu.pk Fax: URL:http://www...  \n",
       "3  Email: amjad@mail.au.edu.pk Fax:051-9260158 UR...  \n",
       "4  Email: info@aiu.edu.pk Fax: URL:http://www.aiu...  "
      ]
     },
     "execution_count": 5,
     "metadata": {},
     "output_type": "execute_result"
    }
   ],
   "source": [
    "uni_data = pd.read_html(url, flavor='bs4')[1]\n",
    "uni_data.head()"
   ]
  },
  {
   "cell_type": "code",
   "execution_count": 6,
   "metadata": {},
   "outputs": [
    {
     "data": {
      "text/plain": [
       "Univeristy/Institute    210\n",
       "Sector                  210\n",
       "City                    210\n",
       "Address                 210\n",
       "Phone                   210\n",
       "Other details           210\n",
       "dtype: int64"
      ]
     },
     "execution_count": 6,
     "metadata": {},
     "output_type": "execute_result"
    }
   ],
   "source": [
    "uni_data.count()"
   ]
  },
  {
   "cell_type": "code",
   "execution_count": 7,
   "metadata": {},
   "outputs": [],
   "source": [
    "uni_data.to_csv(\"University_data.csv\")"
   ]
  }
 ],
 "metadata": {
  "kernelspec": {
   "display_name": "Python 3",
   "language": "python",
   "name": "python3"
  },
  "language_info": {
   "codemirror_mode": {
    "name": "ipython",
    "version": 3
   },
   "file_extension": ".py",
   "mimetype": "text/x-python",
   "name": "python",
   "nbconvert_exporter": "python",
   "pygments_lexer": "ipython3",
   "version": "3.12.0"
  }
 },
 "nbformat": 4,
 "nbformat_minor": 2
}
